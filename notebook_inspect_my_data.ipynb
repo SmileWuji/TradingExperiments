{
 "cells": [
  {
   "cell_type": "code",
   "execution_count": null,
   "id": "cf856a7f",
   "metadata": {},
   "outputs": [],
   "source": [
    "import reporting.plotly_reporter as pr\n",
    "import trading.perfect_data_indicators as ind\n",
    "\n",
    "import collections\n",
    "import copy\n",
    "import itertools\n",
    "import logging\n",
    "import numpy as np\n",
    "import os\n",
    "import pprint\n",
    "import re\n",
    "import scipy.stats as sta\n",
    "\n",
    "log = logging.getLogger(__name__)\n",
    "log.setLevel(logging.DEBUG)\n",
    "handler = logging.StreamHandler()\n",
    "handler.setLevel(logging.DEBUG)\n",
    "formatter = logging.Formatter('%(asctime)s - [%(levelname)s] %(message)s')\n",
    "handler.setFormatter(formatter)\n",
    "log.addHandler(handler)"
   ]
  },
  {
   "cell_type": "code",
   "execution_count": null,
   "id": "cbd4e30c",
   "metadata": {},
   "outputs": [],
   "source": [
    "%%javascript\n",
    "IPython.OutputArea.prototype._should_scroll = function(lines) {\n",
    "    return false;\n",
    "}"
   ]
  },
  {
   "cell_type": "code",
   "execution_count": null,
   "id": "e9230d36",
   "metadata": {},
   "outputs": [],
   "source": [
    "DATA_DIR = 'data240117qqq'"
   ]
  },
  {
   "cell_type": "code",
   "execution_count": null,
   "id": "b246b7c0",
   "metadata": {},
   "outputs": [],
   "source": [
    "PREPROCESSED_DIR = DATA_DIR.rstrip('/') + '-preprocessed'\n",
    "\n",
    "def _load_db_npy(file_name):\n",
    "    return np.load(PREPROCESSED_DIR + f'/{file_name}.npy', allow_pickle=True).item()\n",
    "\n",
    "def _load_a_npy(file_name):\n",
    "    return np.load(PREPROCESSED_DIR + f'/{file_name}.npy', allow_pickle=True)\n",
    "\n",
    "MARKET_DB = _load_db_npy('MARKET_DB')\n",
    "XS = _load_a_npy('XS')\n",
    "INDEX = _load_a_npy('INDEX')\n",
    "RISK_FREE = _load_a_npy('RISK_FREE')\n",
    "IV = _load_a_npy('IV')\n",
    "HV_1_21_DB = _load_db_npy('HV_1_21_DB')\n",
    "HV_5_63_DB = _load_db_npy('HV_5_63_DB')\n",
    "HV_21_252_DB = _load_db_npy('HV_21_252_DB')\n",
    "BETA_1_21_DB = _load_db_npy('BETA_1_21_DB')\n",
    "BETA_5_63_DB = _load_db_npy('BETA_5_63_DB')\n",
    "BETA_21_252_DB = _load_db_npy('BETA_21_252_DB')\n",
    "RETURN_21_DB = _load_db_npy('RETURN_21_DB')\n",
    "RETURN_63_DB = _load_db_npy('RETURN_63_DB')\n",
    "RETURN_252_DB = _load_db_npy('RETURN_252_DB')"
   ]
  },
  {
   "cell_type": "code",
   "execution_count": null,
   "id": "3316eb8d",
   "metadata": {},
   "outputs": [],
   "source": [
    "pr.show_comparison_graph(f'',\n",
    "                      {\n",
    "                          'description': '',\n",
    "                          'data': [{'name': '', 'x': XS, 'y': INDEX},]\n",
    "                      },\n",
    "                      {\n",
    "                          'description': '',\n",
    "                          'data': [{'name': '', 'x': XS, 'y': XS},]\n",
    "                      })\n"
   ]
  },
  {
   "cell_type": "markdown",
   "id": "9b609e80",
   "metadata": {},
   "source": [
    "# Inspect market data"
   ]
  },
  {
   "cell_type": "code",
   "execution_count": null,
   "id": "1dc2e82c",
   "metadata": {},
   "outputs": [],
   "source": [
    "pr.show_comparison_graph(f'',\n",
    "                      {\n",
    "                          'description': '',\n",
    "                          'data': [{'name': '', 'x': XS, 'y': MARKET_DB['NVDA']},]\n",
    "                      },\n",
    "                      {\n",
    "                          'description': '',\n",
    "                          'data': [{'name': '', 'x': XS, 'y': BETA_21_252_DB['NVDA']},]\n",
    "                      },\n",
    "                      x_range=[XS[17500],XS[-1]])\n",
    "\n",
    "pr.show_comparison_graph(f'',\n",
    "                      {\n",
    "                          'description': '',\n",
    "                          'data': [{'name': 'HV_1_21_DB', 'x': XS, 'y': HV_1_21_DB['NVDA']},]\n",
    "                      },\n",
    "                      {\n",
    "                          'description': '',\n",
    "                          'data': [{'name': 'RETURN_21_DB', 'x': XS, 'y': RETURN_21_DB['NVDA']},]\n",
    "                      },\n",
    "                      x_range=[XS[17500],XS[-1]])"
   ]
  },
  {
   "cell_type": "code",
   "execution_count": null,
   "id": "3bc0b0c9",
   "metadata": {},
   "outputs": [],
   "source": []
  }
 ],
 "metadata": {
  "kernelspec": {
   "display_name": "Python 3 (ipykernel)",
   "language": "python",
   "name": "python3"
  },
  "language_info": {
   "codemirror_mode": {
    "name": "ipython",
    "version": 3
   },
   "file_extension": ".py",
   "mimetype": "text/x-python",
   "name": "python",
   "nbconvert_exporter": "python",
   "pygments_lexer": "ipython3",
   "version": "3.9.5"
  }
 },
 "nbformat": 4,
 "nbformat_minor": 5
}
